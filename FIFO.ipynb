{
  "nbformat": 4,
  "nbformat_minor": 0,
  "metadata": {
    "colab": {
      "provenance": []
    },
    "kernelspec": {
      "name": "python3",
      "display_name": "Python 3"
    },
    "language_info": {
      "name": "python"
    }
  },
  "cells": [
    {
      "cell_type": "code",
      "execution_count": 4,
      "metadata": {
        "id": "TRGbRmFBiTXd"
      },
      "outputs": [],
      "source": [
        "class LimitOrderBook:\n",
        "    def __init__(self):\n",
        "        self.orders = []\n",
        "\n",
        "    def add_order(self, order):\n",
        "        self.orders.append(order)\n",
        "\n",
        "    def execute_orders(self):\n",
        "        #while self.orders:\n",
        "        order = self.orders.pop(0)\n",
        "        print(f\"Executing order: {order}\")\n",
        "         # Pop the first order from the list (FIFO)\n",
        "            #self.execute_order(order)"
      ]
    },
    {
      "cell_type": "code",
      "source": [
        "# Example usage\n",
        "lob = LimitOrderBook()\n",
        "\n",
        "# Adding orders to the limit order book\n",
        "lob.add_order(\"Order 1\")\n",
        "lob.add_order(\"Order 2\")\n",
        "lob.add_order(\"Order 3\")"
      ],
      "metadata": {
        "id": "aCq_-EyYiWqs"
      },
      "execution_count": 5,
      "outputs": []
    },
    {
      "cell_type": "code",
      "source": [
        "# Executing orders using the FIFO algorithm\n",
        "lob.orders"
      ],
      "metadata": {
        "colab": {
          "base_uri": "https://localhost:8080/"
        },
        "id": "kSV-ZPKMiZAU",
        "outputId": "f9eeee25-943f-4c75-e036-58cc07cc8cc9"
      },
      "execution_count": 6,
      "outputs": [
        {
          "output_type": "execute_result",
          "data": {
            "text/plain": [
              "['Order 1', 'Order 2', 'Order 3']"
            ]
          },
          "metadata": {},
          "execution_count": 6
        }
      ]
    },
    {
      "cell_type": "code",
      "source": [
        "lob.execute_orders()"
      ],
      "metadata": {
        "colab": {
          "base_uri": "https://localhost:8080/"
        },
        "id": "LGqM_9aWicJt",
        "outputId": "15c574d0-42fb-4c63-e956-27ec324acfa9"
      },
      "execution_count": 7,
      "outputs": [
        {
          "output_type": "stream",
          "name": "stdout",
          "text": [
            "Executing order: Order 1\n"
          ]
        }
      ]
    },
    {
      "cell_type": "code",
      "source": [
        "lob.orders"
      ],
      "metadata": {
        "colab": {
          "base_uri": "https://localhost:8080/"
        },
        "id": "5-BwwqaZifB9",
        "outputId": "eee1ed14-2400-4faf-c534-64790cc2edb0"
      },
      "execution_count": 8,
      "outputs": [
        {
          "output_type": "execute_result",
          "data": {
            "text/plain": [
              "['Order 2', 'Order 3']"
            ]
          },
          "metadata": {},
          "execution_count": 8
        }
      ]
    },
    {
      "cell_type": "code",
      "source": [],
      "metadata": {
        "id": "hwVxK0Sgiiw1"
      },
      "execution_count": null,
      "outputs": []
    }
  ]
}