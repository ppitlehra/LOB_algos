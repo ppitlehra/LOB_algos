{
  "nbformat": 4,
  "nbformat_minor": 0,
  "metadata": {
    "colab": {
      "provenance": []
    },
    "kernelspec": {
      "name": "python3",
      "display_name": "Python 3"
    },
    "language_info": {
      "name": "python"
    }
  },
  "cells": [
    {
      "cell_type": "code",
      "execution_count": 1,
      "metadata": {
        "id": "9B16frlIkEP9"
      },
      "outputs": [],
      "source": [
        "class LimitOrderBook:\n",
        "    def __init__(self):\n",
        "        self.orders = []\n",
        "\n",
        "    def add_order(self, order):\n",
        "        self.orders.append(order)\n",
        "\n",
        "    def execute_orders(self):\n",
        "        self.orders.sort(key=lambda x: (x[0], x[1]))  # Sort orders by price and time (Price-Time Priority)\n",
        "        for order in self.orders:\n",
        "            self.execute_order(order)\n",
        "\n",
        "    def execute_order(self, order):\n",
        "        # Implement your logic to execute the order here\n",
        "        print(f\"Executing order: {order}\")\n",
        "\n",
        "# Example usage\n",
        "lob = LimitOrderBook()\n",
        "\n",
        "# Adding orders to the limit order book\n",
        "lob.add_order((\"Order 1\", 100, \"09:00:00\"))\n",
        "lob.add_order((\"Order 2\", 95, \"09:01:30\"))\n",
        "lob.add_order((\"Order 3\", 98, \"09:02:15\"))\n",
        "\n",
        "# Executing orders using the Price-Time Priority algorithm\n",
        "lob.execute_orders()\n"
      ]
    }
  ]
}