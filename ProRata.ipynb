{
  "nbformat": 4,
  "nbformat_minor": 0,
  "metadata": {
    "colab": {
      "provenance": []
    },
    "kernelspec": {
      "name": "python3",
      "display_name": "Python 3"
    },
    "language_info": {
      "name": "python"
    }
  },
  "cells": [
    {
      "cell_type": "code",
      "execution_count": 1,
      "metadata": {
        "colab": {
          "base_uri": "https://localhost:8080/"
        },
        "id": "OtfDdpvT-qj5",
        "outputId": "792ab373-6802-4fc0-9acc-e6b95ccd7ef2"
      },
      "outputs": [
        {
          "output_type": "stream",
          "name": "stdout",
          "text": [
            "Executing order: Order 1 with executed quantity: 22\n",
            "Executing order: Order 2 with executed quantity: 88\n",
            "Executing order: Order 3 with executed quantity: 50\n",
            "['Order 1', 78]\n",
            "['Order 2', 112]\n",
            "['Order 3', 100]\n"
          ]
        }
      ],
      "source": [
        "class LimitOrderBook:\n",
        "    def __init__(self):\n",
        "        self.orders = []\n",
        "\n",
        "    def add_order(self, order):\n",
        "        self.orders.append(order)\n",
        "\n",
        "    def execute_orders(self):\n",
        "        total_quantity = sum(order[1] for order in self.orders)  # Calculate the total quantity of all orders\n",
        "        for order in self.orders:\n",
        "            executed_quantity = int((order[1] / total_quantity) * order[1])  # Calculate the executed quantity based on proportion\n",
        "            self.execute_order(order[0], executed_quantity)\n",
        "\n",
        "    def execute_order(self, order_name, executed_quantity):\n",
        "        print(f\"Executing order: {order_name} with executed quantity: {executed_quantity}\")\n",
        "\n",
        "        # Deduct executed quantity from the order quantity\n",
        "        for order in self.orders:\n",
        "            if order[0] == order_name:\n",
        "                order[1] -= executed_quantity\n",
        "                break\n",
        "\n",
        "        # You can add more custom logic based on your specific requirements\n",
        "\n",
        "# Example usage\n",
        "lob = LimitOrderBook()\n",
        "\n",
        "# Adding orders to the limit order book\n",
        "lob.add_order([\"Order 1\", 100])\n",
        "lob.add_order([\"Order 2\", 200])\n",
        "lob.add_order([\"Order 3\", 150])\n",
        "\n",
        "# Executing orders using the Pro-Rata algorithm\n",
        "lob.execute_orders()\n",
        "\n",
        "# Printing the updated order book after execution\n",
        "for order in lob.orders:\n",
        "    print(order)\n"
      ]
    },
    {
      "cell_type": "code",
      "source": [],
      "metadata": {
        "id": "Ay-Jv7LW_k70"
      },
      "execution_count": null,
      "outputs": []
    }
  ]
}